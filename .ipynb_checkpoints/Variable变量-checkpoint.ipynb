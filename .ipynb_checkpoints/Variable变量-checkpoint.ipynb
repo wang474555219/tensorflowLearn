{
 "cells": [
  {
   "cell_type": "markdown",
   "metadata": {},
   "source": [
    "### 简单运用"
   ]
  },
  {
   "cell_type": "raw",
   "metadata": {},
   "source": [
    "在 Tensorflow 中，定义了某字符串是变量，它才是变量，这一点是与 Python 所不同的。\n",
    "\n",
    "定义语法： state = tf.Variable()"
   ]
  },
  {
   "cell_type": "code",
   "execution_count": 1,
   "metadata": {},
   "outputs": [],
   "source": [
    "import tensorflow as tf"
   ]
  },
  {
   "cell_type": "code",
   "execution_count": 2,
   "metadata": {},
   "outputs": [],
   "source": [
    "state = tf.Variable(0, name='counter')\n",
    "\n",
    "# 定义常量\n",
    "one = tf.constant(1)\n",
    "\n",
    "# 定义加法步骤（注：此步骤并没有直接计算）\n",
    "new_value = tf.add(state, one)\n",
    "\n",
    "# 将state更新成new_value\n",
    "update = tf.assign(state, new_value)"
   ]
  },
  {
   "cell_type": "raw",
   "metadata": {},
   "source": [
    "如果你在 Tensorflow 中设定了变量，那么初始化变量是最重要的！！所以定义了变量以后, \n",
    "\n",
    "一定要定义 init = tf.initialize_all_variables() .\n",
    "\n",
    "到这里变量还是没有被激活，需要再在 sess 里, sess.run(init) , 激活 init 这一步."
   ]
  },
  {
   "cell_type": "code",
   "execution_count": 5,
   "metadata": {},
   "outputs": [
    {
     "data": {
      "text/plain": [
       "<tf.Variable 'counter_1:0' shape=() dtype=int32_ref>"
      ]
     },
     "execution_count": 5,
     "metadata": {},
     "output_type": "execute_result"
    }
   ],
   "source": [
    "state"
   ]
  },
  {
   "cell_type": "code",
   "execution_count": 3,
   "metadata": {},
   "outputs": [],
   "source": [
    "# 如果定义 Variable, 就一定要 initialize\n",
    "# init = tf.initialize_all_variables() # tf 马上就要废弃这种写法\n",
    "init = tf.global_variables_initializer()  # 替换成这样就好"
   ]
  },
  {
   "cell_type": "raw",
   "metadata": {},
   "source": [
    "注意：直接 print(state) 不起作用！！\n",
    "\n",
    "一定要把 sess 的指针指向 state 再进行 print 才能得到想要的结果！\n",
    "\n",
    "以上就是我们今天所学的 Variable 打开模式"
   ]
  },
  {
   "cell_type": "code",
   "execution_count": 4,
   "metadata": {},
   "outputs": [
    {
     "name": "stdout",
     "output_type": "stream",
     "text": [
      "1\n",
      "2\n",
      "3\n"
     ]
    }
   ],
   "source": [
    "# 使用 Session\n",
    "with tf.Session() as sess:\n",
    "    sess.run(init)\n",
    "    for _ in range(3):\n",
    "        sess.run(update)\n",
    "        print(sess.run(state))"
   ]
  }
 ],
 "metadata": {
  "kernelspec": {
   "display_name": "Python 3",
   "language": "python",
   "name": "python3"
  },
  "language_info": {
   "codemirror_mode": {
    "name": "ipython",
    "version": 3
   },
   "file_extension": ".py",
   "mimetype": "text/x-python",
   "name": "python",
   "nbconvert_exporter": "python",
   "pygments_lexer": "ipython3",
   "version": "3.6.5"
  }
 },
 "nbformat": 4,
 "nbformat_minor": 2
}
