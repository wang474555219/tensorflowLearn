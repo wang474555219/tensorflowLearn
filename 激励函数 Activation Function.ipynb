{
 "cells": [
  {
   "cell_type": "markdown",
   "metadata": {},
   "source": [
    "### 快速了解"
   ]
  },
  {
   "cell_type": "raw",
   "metadata": {},
   "source": [
    "激励函数运行时激活神经网络中某一部分神经元，将激活信息向后传入下一层的神经系统。\n",
    "激励函数的实质是非线性方程。 \n",
    "Tensorflow 的神经网络 里面处理较为复杂的问题时都会需要运用激励函数 activation function 。 "
   ]
  },
  {
   "cell_type": "markdown",
   "metadata": {},
   "source": [
    "<a href=\"https://morvanzhou.github.io/tutorials/machine-learning/ML-intro/3-04-activation-function/\" > 详细介绍请前往 “机器学习-简介系列” 激励函数</a>"
   ]
  }
 ],
 "metadata": {
  "kernelspec": {
   "display_name": "Python 3",
   "language": "python",
   "name": "python3"
  },
  "language_info": {
   "codemirror_mode": {
    "name": "ipython",
    "version": 3
   },
   "file_extension": ".py",
   "mimetype": "text/x-python",
   "name": "python",
   "nbconvert_exporter": "python",
   "pygments_lexer": "ipython3",
   "version": "3.6.5"
  }
 },
 "nbformat": 4,
 "nbformat_minor": 2
}
